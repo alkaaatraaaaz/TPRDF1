{
 "cells": [
  {
   "cell_type": "code",
   "execution_count": 1,
   "metadata": {},
   "outputs": [],
   "source": [
    "import numpy as np\n",
    "import cv2\n",
    "import matplotlib.pyplot as plt"
   ]
  },
  {
   "cell_type": "code",
   "execution_count": null,
   "metadata": {},
   "outputs": [],
   "source": [
    "\n",
    "img= cv2.imread('satellite.jpg')\n",
    "img = cv2.cvtColor(img, cv2.COLOR_BGR2RGB)\n",
    "plt.figure()\n",
    "plt.imshow(img)\n",
    "\n",
    "#plt.axis('off')\n",
    "plt.colorbar()\n",
    "plt.show()"
   ]
  },
  {
   "cell_type": "code",
   "execution_count": 3,
   "metadata": {},
   "outputs": [],
   "source": [
    "\n",
    "\n",
    "\n",
    "def init_matrice_appartenance(X, C, m):\n",
    "    \"\"\"\n",
    "    Initialise la matrice d'appartenance U.\n",
    "\n",
    "    Paramètres:\n",
    "    - X: les données d'entrée (n_samples, n_features)\n",
    "    - C: les centres de clusters (c_clusters, n_features)\n",
    "    - m: paramètre de pondération (m > 1)\n",
    "\n",
    "    Retourne:\n",
    "    - U: matrice d'appartenance (n_samples, c_clusters)\n",
    "    \"\"\"\n",
    "    n_samples = X.shape[0]\n",
    "    c_clusters = C.shape[0]\n",
    "\n",
    "    U = np.zeros((n_samples, c_clusters))\n",
    "\n",
    "    for i in range(n_samples):\n",
    "        for j in range(c_clusters):\n",
    "            somme = 0\n",
    "            for k in range(c_clusters):\n",
    "                # Calculer la norme (distance) entre x_i et c_j, c_k\n",
    "                dist_ij = np.linalg.norm(X[i] - C[j])\n",
    "                dist_ik = np.linalg.norm(X[i] - C[k])\n",
    "\n",
    "                # Éviter la division par zéro\n",
    "                if dist_ik == 0:\n",
    "                    dist_ik = np.finfo(np.float64).eps\n",
    "\n",
    "                somme += (dist_ij / dist_ik) ** (2 / (m - 1))\n",
    "\n",
    "            U[i, j] = 1 / somme\n",
    "\n",
    "    return U"
   ]
  },
  {
   "cell_type": "code",
   "execution_count": null,
   "metadata": {},
   "outputs": [],
   "source": [
    "U = init_matrice_appartenance(X, C, m)"
   ]
  }
 ],
 "metadata": {
  "kernelspec": {
   "display_name": "Python 3",
   "language": "python",
   "name": "python3"
  },
  "language_info": {
   "codemirror_mode": {
    "name": "ipython",
    "version": 3
   },
   "file_extension": ".py",
   "mimetype": "text/x-python",
   "name": "python",
   "nbconvert_exporter": "python",
   "pygments_lexer": "ipython3",
   "version": "3.9.20"
  }
 },
 "nbformat": 4,
 "nbformat_minor": 2
}
